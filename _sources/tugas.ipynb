{
  "nbformat": 4,
  "nbformat_minor": 0,
  "metadata": {
    "colab": {
      "provenance": []
    },
    "kernelspec": {
      "name": "python3",
      "display_name": "Python 3"
    },
    "language_info": {
      "name": "python"
    }
  },
  "cells": [
    {
      "cell_type": "markdown",
      "source": [
        "# MATRIKS"
      ],
      "metadata": {
        "id": "1hfx3BqLl6pi"
      }
    },
    {
      "cell_type": "markdown",
      "source": [
        "## Definisi Matriks\n",
        "\n",
        "Matriks adalah susunan bilangan, simbol, atau ekspresi yang disusun dalam bentuk baris dan kolom yang membentuk suatu persegi panjang. Setiap elemen dalam matriks ditempatkan pada posisi tertentu yang ditentukan oleh indeks baris dan kolomnya.\n",
        "\n",
        "Secara umum, sebuah matriks dengan ukuran m × n memiliki m baris dan n kolom, ditulis sebagai:\n",
        "\n",
        "![Screenshot 2025-03-09 224855.png](data:image/png;base64,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)\n",
        "\n",
        "Macam-macam Matriks\n",
        "\n",
        "Matriks Persegi: Matriks dengan jumlah baris dan kolom yang sama (m = n).\n",
        "\n",
        "Matriks Nol: Matriks yang seluruh elemennya bernilai nol.\n",
        "\n",
        "Matriks Identitas: Matriks persegi dengan elemen diagonal utama bernilai 1 dan elemen lainnya bernilai nol.\n",
        "\n",
        "Matriks Diagonal: Matriks persegi di mana semua elemen di luar diagonal utama bernilai nol.\n",
        "\n",
        "Matriks Segitiga: Matriks persegi yang hanya memiliki elemen di atas atau di bawah diagonal utama.\n",
        "\n",
        "Matriks Transpos: Matriks yang diperoleh dengan menukar elemen baris menjadi elemen kolom dalam suatu matriks.\n",
        "\n",
        "Matriks memiliki berbagai aplikasi dalam bidang matematika, fisika, ilmu komputer, serta kecerdasan buatan, terutama dalam operasi aljabar linear.\n",
        "\n"
      ],
      "metadata": {
        "id": "fMaEzC4hl8rx"
      }
    },
    {
      "cell_type": "markdown",
      "source": [
        "## matriks. Beberapa operasi yang umum dilakukan antara lain:\n",
        "\n",
        "Penjumlahan Matriks: Dua matriks dengan ukuran yang sama dapat dijumlahkan dengan menjumlahkan elemen yang bersesuaian.\n",
        "\n",
        "Pengurangan Matriks: Dua matriks dengan ukuran yang sama dapat dikurangkan dengan mengurangkan elemen yang bersesuaian.\n",
        "\n",
        "Perkalian Skalar: Setiap elemen dalam matriks dikalikan dengan suatu bilangan skalar.\n",
        "\n",
        "Perkalian Matriks: Dua matriks dapat dikalikan jika jumlah kolom matriks pertama sama dengan jumlah baris matriks kedua.\n",
        "\n",
        "Operasi-operasi ini digunakan dalam berbagai bidang seperti matematika, fisika, teknik, pemrosesan citra, serta kecerdasan buatan."
      ],
      "metadata": {
        "id": "WpyN66bynMsK"
      }
    },
    {
      "cell_type": "markdown",
      "source": [
        "## Penjumlahan Matriks\n",
        "\n",
        "Konsep Penjumlahan Matriks\n",
        "\n",
        "Penjumlahan matriks adalah operasi yang dilakukan dengan menjumlahkan elemen-elemen yang bersesuaian dari dua matriks. Operasi ini hanya dapat dilakukan jika kedua matriks memiliki ukuran yang sama, yaitu memiliki jumlah baris dan kolom yang sama."
      ],
      "metadata": {
        "id": "aJnvR5bMoLkq"
      }
    },
    {
      "cell_type": "code",
      "execution_count": 1,
      "metadata": {
        "colab": {
          "base_uri": "https://localhost:8080/"
        },
        "id": "8nlRxNa6l2f2",
        "outputId": "bbe5b671-cbfe-4c76-cadc-c77a760bc72e"
      },
      "outputs": [
        {
          "output_type": "stream",
          "name": "stdout",
          "text": [
            "\n",
            "Penjumlahan Matriks:\n",
            "Matrix([[3, 8, 2]]) + Matrix([[2, -3, 7]]) = Matrix([[5, 5, 9]])\n",
            "Matrix([[1, 6, 4]]) + Matrix([[4, 0, 1]]) = Matrix([[5, 6, 5]])\n",
            "Matrix([[5, 7, 9]]) + Matrix([[6, 5, -2]]) = Matrix([[11, 12, 7]])\n"
          ]
        }
      ],
      "source": [
        "import numpy as np\n",
        "import sympy as sy\n",
        "\n",
        "# Definisi matriks dengan SymPy\n",
        "a_sy = sy.Matrix([[3, 8, 2], [1, 6, 4], [5, 7, 9]])\n",
        "b_sy = sy.Matrix([[2, -3, 7], [4, 0, 1], [6, 5, -2]])\n",
        "\n",
        "# Penjumlahan matriks\n",
        "sum_matrix = a_sy + b_sy\n",
        "\n",
        "print(\"\\nPenjumlahan Matriks:\")\n",
        "for i in range(sum_matrix.rows):\n",
        "    print(f\"{a_sy.row(i)} + {b_sy.row(i)} = {sum_matrix.row(i)}\")"
      ]
    },
    {
      "cell_type": "markdown",
      "source": [
        "## Perkalian Matriks\n",
        "\n",
        "Konsep Perkalian Matriks\n",
        "\n",
        "Perkalian matriks adalah operasi aritmatika pada matriks yang dilakukan dengan menjumlahkan hasil kali elemen-elemen dari baris matriks pertama dengan elemen-elemen dari kolom matriks kedua. Operasi ini banyak digunakan dalam berbagai bidang seperti grafika komputer, kecerdasan buatan, dan pemodelan sistem."
      ],
      "metadata": {
        "id": "GIHtZUT8p065"
      }
    },
    {
      "cell_type": "code",
      "source": [
        "import numpy as np\n",
        "\n",
        "# Langkah 1: Definisikan Matriks A dan B\n",
        "A = np.array([[2, 3], [4, 1]])\n",
        "B = np.array([[5, 7], [6, 8]])\n",
        "\n",
        "# Langkah 2: Lakukan Perkalian Matriks\n",
        "C = np.dot(A, B)\n",
        "\n",
        "# Langkah 3: Tampilkan Matriks A dan B\n",
        "print(\"Matriks A:\")\n",
        "print(A)\n",
        "print(\"\\nMatriks B:\")\n",
        "print(B)\n",
        "\n",
        "# Langkah 4: Menampilkan Hasil Perkalian Matriks\n",
        "print(\"\\nHasil Perkalian Matriks A x B:\")\n",
        "print(C)"
      ],
      "metadata": {
        "colab": {
          "base_uri": "https://localhost:8080/"
        },
        "id": "EjED7wnNp4kY",
        "outputId": "fcfaa489-001a-4c23-f882-de20cd20321f"
      },
      "execution_count": 2,
      "outputs": [
        {
          "output_type": "stream",
          "name": "stdout",
          "text": [
            "Matriks A:\n",
            "[[2 3]\n",
            " [4 1]]\n",
            "\n",
            "Matriks B:\n",
            "[[5 7]\n",
            " [6 8]]\n",
            "\n",
            "Hasil Perkalian Matriks A x B:\n",
            "[[28 38]\n",
            " [26 36]]\n"
          ]
        }
      ]
    }
  ]
}